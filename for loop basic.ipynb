{
 "cells": [
  {
   "cell_type": "code",
   "execution_count": 1,
   "id": "4566f27f-6667-4856-b747-7bea36413df4",
   "metadata": {},
   "outputs": [],
   "source": [
    "l=[1,2,3,4,5]"
   ]
  },
  {
   "cell_type": "code",
   "execution_count": 2,
   "id": "38c0806f-b4c6-4de6-80d2-10d4b35f048d",
   "metadata": {},
   "outputs": [
    {
     "name": "stdout",
     "output_type": "stream",
     "text": [
      "1 <class 'int'>\n",
      "2 <class 'int'>\n",
      "3 <class 'int'>\n",
      "4 <class 'int'>\n",
      "5 <class 'int'>\n"
     ]
    }
   ],
   "source": [
    "for i in l:\n",
    "    print(i,type(i))"
   ]
  },
  {
   "cell_type": "code",
   "execution_count": 10,
   "id": "ced48c43-f367-4c7d-9628-17aab8607c51",
   "metadata": {},
   "outputs": [],
   "source": [
    "l1 = ['Prathmesh','kalyankar','Data' ,'scientist']"
   ]
  },
  {
   "cell_type": "code",
   "execution_count": 16,
   "id": "efc5ef5f-4cb7-4ec8-803e-ca90708d639e",
   "metadata": {},
   "outputs": [
    {
     "name": "stdout",
     "output_type": "stream",
     "text": [
      "Prathmesh\n",
      "kalyankar\n",
      "Data\n",
      "scientist\n",
      "if for lop is able to complete itself then only else will execute\n"
     ]
    }
   ],
   "source": [
    "for i in l1:\n",
    "    print(i)\n",
    "else :\n",
    "    print('if for lop is able to complete itself then only else will execute')"
   ]
  },
  {
   "cell_type": "code",
   "execution_count": 18,
   "id": "f45e72a1-798b-480e-a926-a0ec69ea5330",
   "metadata": {},
   "outputs": [
    {
     "data": {
      "text/plain": [
       "['Prathmesh', 'kalyankar', 'Data', 'scientist']"
      ]
     },
     "execution_count": 18,
     "metadata": {},
     "output_type": "execute_result"
    }
   ],
   "source": [
    "l1"
   ]
  },
  {
   "cell_type": "code",
   "execution_count": 19,
   "id": "76bb90f6-0a1c-4b55-9e92-7932aaa006d0",
   "metadata": {},
   "outputs": [
    {
     "name": "stdout",
     "output_type": "stream",
     "text": [
      "Prathmesh\n"
     ]
    }
   ],
   "source": [
    "for i in l1:\n",
    "    if i == 'kalyankar':\n",
    "        break\n",
    "    print(i)"
   ]
  },
  {
   "cell_type": "code",
   "execution_count": 20,
   "id": "710d94fb-6e3b-49c0-93ec-a55174ac00ab",
   "metadata": {},
   "outputs": [
    {
     "data": {
      "text/plain": [
       "['Prathmesh', 'kalyankar', 'Data', 'scientist']"
      ]
     },
     "execution_count": 20,
     "metadata": {},
     "output_type": "execute_result"
    }
   ],
   "source": [
    "l1"
   ]
  },
  {
   "cell_type": "code",
   "execution_count": 21,
   "id": "050860b9-d98a-4af7-a604-fb2c0ec29bd7",
   "metadata": {},
   "outputs": [
    {
     "name": "stdout",
     "output_type": "stream",
     "text": [
      "kalyankar\n",
      "excecute this if for loop is able to complete itself\n"
     ]
    }
   ],
   "source": [
    "for i in l1:\n",
    "    if i == 'kalyankar':\n",
    "        print(i)\n",
    "else:\n",
    "    print('excecute this if for loop is able to complete itself')"
   ]
  },
  {
   "cell_type": "code",
   "execution_count": 22,
   "id": "9f01325e-33cc-43a7-a69f-edc01a867cb4",
   "metadata": {},
   "outputs": [
    {
     "data": {
      "text/plain": [
       "['Prathmesh', 'kalyankar', 'Data', 'scientist']"
      ]
     },
     "execution_count": 22,
     "metadata": {},
     "output_type": "execute_result"
    }
   ],
   "source": [
    "l1"
   ]
  },
  {
   "cell_type": "code",
   "execution_count": 23,
   "id": "f7592ad2-c7f1-48f2-8b45-84b47f10b685",
   "metadata": {},
   "outputs": [
    {
     "name": "stdout",
     "output_type": "stream",
     "text": [
      "Prathmesh\n",
      "Data\n",
      "scientist\n"
     ]
    }
   ],
   "source": [
    "for i in l1:\n",
    "    if i == 'kalyankar':\n",
    "        continue\n",
    "    print(i)"
   ]
  },
  {
   "cell_type": "code",
   "execution_count": 24,
   "id": "eabd6f47-52fd-481c-8269-34b0626a4f0b",
   "metadata": {},
   "outputs": [
    {
     "name": "stdout",
     "output_type": "stream",
     "text": [
      "Prathmesh\n",
      "Data\n",
      "scientist\n",
      "excecute this if for loop is able to complete itself\n"
     ]
    }
   ],
   "source": [
    "for i in l1:\n",
    "    if i == 'kalyankar':\n",
    "        continue\n",
    "    print(i)\n",
    "else:\n",
    "    print('excecute this if for loop is able to complete itself')"
   ]
  },
  {
   "cell_type": "code",
   "execution_count": 25,
   "id": "66f40ba8-f117-4df3-bbaa-104eebe163a3",
   "metadata": {},
   "outputs": [
    {
     "data": {
      "text/plain": [
       "range(0, 5)"
      ]
     },
     "execution_count": 25,
     "metadata": {},
     "output_type": "execute_result"
    }
   ],
   "source": [
    "range(5)"
   ]
  },
  {
   "cell_type": "code",
   "execution_count": 26,
   "id": "fc1d1d08-c7a2-47a6-8c16-c48cb108f4cb",
   "metadata": {},
   "outputs": [
    {
     "data": {
      "text/plain": [
       "[0, 1, 2, 3, 4]"
      ]
     },
     "execution_count": 26,
     "metadata": {},
     "output_type": "execute_result"
    }
   ],
   "source": [
    "list(range(5))"
   ]
  },
  {
   "cell_type": "code",
   "execution_count": 33,
   "id": "af7a5816-01da-499f-92df-0eb61829b9df",
   "metadata": {},
   "outputs": [
    {
     "data": {
      "text/plain": [
       "[0, 1, 2, 3, 4]"
      ]
     },
     "execution_count": 33,
     "metadata": {},
     "output_type": "execute_result"
    }
   ],
   "source": [
    "list(range(0,5,1))"
   ]
  },
  {
   "cell_type": "code",
   "execution_count": 34,
   "id": "5cb8264c-967d-4354-80d5-2bfee54c1c82",
   "metadata": {},
   "outputs": [
    {
     "data": {
      "text/plain": [
       "[0, 1, 2, 3, 4, 5, 6, 7, 8, 9, 10, 11, 12, 13, 14, 15, 16, 17, 18, 19]"
      ]
     },
     "execution_count": 34,
     "metadata": {},
     "output_type": "execute_result"
    }
   ],
   "source": [
    "list(range(0,20))"
   ]
  },
  {
   "cell_type": "code",
   "execution_count": 35,
   "id": "558707ef-1ff1-437e-985c-36dd8ee3dd90",
   "metadata": {},
   "outputs": [
    {
     "data": {
      "text/plain": [
       "[-10, -9, -8, -7, -6, -5, -4, -3, -2, -1]"
      ]
     },
     "execution_count": 35,
     "metadata": {},
     "output_type": "execute_result"
    }
   ],
   "source": [
    "list(range(-10,0))"
   ]
  },
  {
   "cell_type": "code",
   "execution_count": 36,
   "id": "a44e6cd4-cffe-4029-8236-b979a61bacd3",
   "metadata": {},
   "outputs": [
    {
     "data": {
      "text/plain": [
       "['Prathmesh', 'kalyankar', 'Data', 'scientist']"
      ]
     },
     "execution_count": 36,
     "metadata": {},
     "output_type": "execute_result"
    }
   ],
   "source": [
    "l1"
   ]
  },
  {
   "cell_type": "code",
   "execution_count": 39,
   "id": "ccd1cff6-0183-4b78-ab10-76871d882b3e",
   "metadata": {},
   "outputs": [
    {
     "data": {
      "text/plain": [
       "4"
      ]
     },
     "execution_count": 39,
     "metadata": {},
     "output_type": "execute_result"
    }
   ],
   "source": [
    "len(l1)"
   ]
  },
  {
   "cell_type": "code",
   "execution_count": 40,
   "id": "740d970e-b470-4a5c-bd29-e9619a1a2ede",
   "metadata": {},
   "outputs": [
    {
     "data": {
      "text/plain": [
       "[0, 1, 2, 3]"
      ]
     },
     "execution_count": 40,
     "metadata": {},
     "output_type": "execute_result"
    }
   ],
   "source": [
    "list(range(len(l1)))"
   ]
  },
  {
   "cell_type": "code",
   "execution_count": 43,
   "id": "6a66e1cf-ff64-4bcb-b5ca-6b72877b6174",
   "metadata": {},
   "outputs": [
    {
     "name": "stdout",
     "output_type": "stream",
     "text": [
      "Prathmesh\n",
      "kalyankar\n",
      "Data\n",
      "scientist\n"
     ]
    }
   ],
   "source": [
    "for i in range(len(l1)):\n",
    "    print(l1[i])"
   ]
  },
  {
   "cell_type": "code",
   "execution_count": 51,
   "id": "27d629bd-f200-4ab4-b1c2-b6d6a944e5d1",
   "metadata": {
    "scrolled": true
   },
   "outputs": [
    {
     "data": {
      "text/plain": [
       "[3, 2, 1, 0]"
      ]
     },
     "execution_count": 51,
     "metadata": {},
     "output_type": "execute_result"
    }
   ],
   "source": [
    "list(range(len(l1)-1,-1,-1))"
   ]
  },
  {
   "cell_type": "code",
   "execution_count": 50,
   "id": "47185782-6417-4dfa-aeaf-1920ee787690",
   "metadata": {},
   "outputs": [
    {
     "data": {
      "text/plain": [
       "['Prathmesh', 'kalyankar', 'Data', 'scientist']"
      ]
     },
     "execution_count": 50,
     "metadata": {},
     "output_type": "execute_result"
    }
   ],
   "source": [
    "l1"
   ]
  },
  {
   "cell_type": "code",
   "execution_count": 52,
   "id": "ceb3bad0-691b-4ceb-8e5f-c32e485d3b85",
   "metadata": {},
   "outputs": [
    {
     "name": "stdout",
     "output_type": "stream",
     "text": [
      "scientist\n",
      "Data\n",
      "kalyankar\n",
      "Prathmesh\n"
     ]
    }
   ],
   "source": [
    "for i in(range(len(l1)-1,-1,-1)):\n",
    "    print(l1[i])"
   ]
  },
  {
   "cell_type": "code",
   "execution_count": 53,
   "id": "f671b458-77ed-4f99-920f-d6e4c01b9b7a",
   "metadata": {},
   "outputs": [],
   "source": [
    "l2=[234,5634,63,632,1,15,4,78,2,4,6,8,9]"
   ]
  },
  {
   "cell_type": "code",
   "execution_count": 54,
   "id": "316fb21c-9777-4565-b332-8a069e97c4f8",
   "metadata": {},
   "outputs": [
    {
     "data": {
      "text/plain": [
       "[0, 2, 4, 6, 8, 10, 12]"
      ]
     },
     "execution_count": 54,
     "metadata": {},
     "output_type": "execute_result"
    }
   ],
   "source": [
    "list(range(0,len(l2),2))"
   ]
  },
  {
   "cell_type": "code",
   "execution_count": 55,
   "id": "e68c93b7-885b-4647-87f8-775c8b4308e2",
   "metadata": {},
   "outputs": [
    {
     "name": "stdout",
     "output_type": "stream",
     "text": [
      "234\n",
      "63\n",
      "1\n",
      "4\n",
      "2\n",
      "6\n",
      "9\n"
     ]
    }
   ],
   "source": [
    "for i in (range(0,len(l2),2)):\n",
    "    print(l2[i])"
   ]
  },
  {
   "cell_type": "code",
   "execution_count": 57,
   "id": "ae381665-e31a-4393-9380-7ea0a31b4a6d",
   "metadata": {},
   "outputs": [],
   "source": [
    "l=[1,2,3,4,5,6,7,8]"
   ]
  },
  {
   "cell_type": "code",
   "execution_count": 58,
   "id": "29d7d278-e129-4b96-a1b1-8448cfa6a12e",
   "metadata": {},
   "outputs": [
    {
     "data": {
      "text/plain": [
       "36"
      ]
     },
     "execution_count": 58,
     "metadata": {},
     "output_type": "execute_result"
    }
   ],
   "source": [
    "sum(l)"
   ]
  },
  {
   "cell_type": "code",
   "execution_count": 59,
   "id": "f7bd4fb6-91de-4d67-b2f0-58c29cfb9bc2",
   "metadata": {},
   "outputs": [
    {
     "data": {
      "text/plain": [
       "36"
      ]
     },
     "execution_count": 59,
     "metadata": {},
     "output_type": "execute_result"
    }
   ],
   "source": [
    "result=0\n",
    "for i in l:\n",
    "    result = result + i\n",
    "result"
   ]
  },
  {
   "cell_type": "code",
   "execution_count": 60,
   "id": "ea573949-1535-4651-8347-32e45b152855",
   "metadata": {},
   "outputs": [],
   "source": [
    "t = (1,2,3,4,5,6,7)"
   ]
  },
  {
   "cell_type": "code",
   "execution_count": 62,
   "id": "12d5e243-07c0-45bd-9e8b-5aefc6094a06",
   "metadata": {},
   "outputs": [
    {
     "data": {
      "text/plain": [
       "28"
      ]
     },
     "execution_count": 62,
     "metadata": {},
     "output_type": "execute_result"
    }
   ],
   "source": [
    "result=0\n",
    "for i in t:\n",
    "    result=result+i\n",
    "result   "
   ]
  },
  {
   "cell_type": "code",
   "execution_count": 63,
   "id": "65dc5189-091d-4473-9115-15636be52073",
   "metadata": {},
   "outputs": [],
   "source": [
    "s ={1,2,3,4,5,6,'Prathmesh', 'kalyankar'}"
   ]
  },
  {
   "cell_type": "code",
   "execution_count": 64,
   "id": "5084f796-bc28-4976-8b0c-c6029a4a3a17",
   "metadata": {},
   "outputs": [
    {
     "name": "stdout",
     "output_type": "stream",
     "text": [
      "1\n",
      "2\n",
      "3\n",
      "4\n",
      "5\n",
      "6\n",
      "kalyankar\n",
      "Prathmesh\n"
     ]
    }
   ],
   "source": [
    "for i in s :\n",
    "    print(i)"
   ]
  },
  {
   "cell_type": "code",
   "execution_count": 65,
   "id": "ac61d31d-1227-4f49-beaf-fb1b984d8b18",
   "metadata": {},
   "outputs": [],
   "source": [
    "s1 ='data analytics'"
   ]
  },
  {
   "cell_type": "code",
   "execution_count": 66,
   "id": "54368d92-f3b8-4b83-aaca-78fdf4ae20d4",
   "metadata": {},
   "outputs": [
    {
     "name": "stdout",
     "output_type": "stream",
     "text": [
      "d\n",
      "a\n",
      "t\n",
      "a\n",
      " \n",
      "a\n",
      "n\n",
      "a\n",
      "l\n",
      "y\n",
      "t\n",
      "i\n",
      "c\n",
      "s\n"
     ]
    }
   ],
   "source": [
    "for i in s1:\n",
    "    print(i)"
   ]
  },
  {
   "cell_type": "code",
   "execution_count": 68,
   "id": "ec56ab72-4fff-463b-884b-327fbcda34fa",
   "metadata": {},
   "outputs": [],
   "source": [
    "d = {'name':'Prathmesh','class':'data science','topic':['python','Ml','Dl']}"
   ]
  },
  {
   "cell_type": "code",
   "execution_count": 69,
   "id": "d9ed092d-3cf5-4d16-93e6-62270feb1cad",
   "metadata": {},
   "outputs": [
    {
     "data": {
      "text/plain": [
       "{'name': 'Prathmesh', 'class': 'data science', 'topic': ['python', 'Ml', 'Dl']}"
      ]
     },
     "execution_count": 69,
     "metadata": {},
     "output_type": "execute_result"
    }
   ],
   "source": [
    "d"
   ]
  },
  {
   "cell_type": "code",
   "execution_count": 70,
   "id": "77c27a66-cae3-4b31-859f-d8d1e7209298",
   "metadata": {},
   "outputs": [
    {
     "data": {
      "text/plain": [
       "'Prathmesh'"
      ]
     },
     "execution_count": 70,
     "metadata": {},
     "output_type": "execute_result"
    }
   ],
   "source": [
    "d['name']"
   ]
  },
  {
   "cell_type": "code",
   "execution_count": 71,
   "id": "c79fcf7b-f420-483b-b390-264d45eaaf5b",
   "metadata": {},
   "outputs": [
    {
     "data": {
      "text/plain": [
       "dict_keys(['name', 'class', 'topic'])"
      ]
     },
     "execution_count": 71,
     "metadata": {},
     "output_type": "execute_result"
    }
   ],
   "source": [
    "d.keys()"
   ]
  },
  {
   "cell_type": "code",
   "execution_count": 72,
   "id": "2061150e-e2df-46d2-a5eb-0d2bb4f8c899",
   "metadata": {},
   "outputs": [
    {
     "name": "stdout",
     "output_type": "stream",
     "text": [
      "Prathmesh\n",
      "data science\n",
      "['python', 'Ml', 'Dl']\n"
     ]
    }
   ],
   "source": [
    "for i in d.keys():\n",
    "    print(d[i])"
   ]
  },
  {
   "cell_type": "code",
   "execution_count": 73,
   "id": "b24a67d4-089a-450f-a582-07bbd5515318",
   "metadata": {},
   "outputs": [
    {
     "data": {
      "text/plain": [
       "dict_values(['Prathmesh', 'data science', ['python', 'Ml', 'Dl']])"
      ]
     },
     "execution_count": 73,
     "metadata": {},
     "output_type": "execute_result"
    }
   ],
   "source": [
    "d.values()"
   ]
  },
  {
   "cell_type": "code",
   "execution_count": 74,
   "id": "43896fd9-e546-444b-be4b-e4e7de8936b8",
   "metadata": {},
   "outputs": [
    {
     "name": "stdout",
     "output_type": "stream",
     "text": [
      "Prathmesh\n",
      "data science\n",
      "['python', 'Ml', 'Dl']\n"
     ]
    }
   ],
   "source": [
    "for i in d.values():\n",
    "    print(i)"
   ]
  },
  {
   "cell_type": "code",
   "execution_count": 75,
   "id": "7d0b5308-755e-4691-9537-2c00ee5f6d7b",
   "metadata": {},
   "outputs": [
    {
     "name": "stdout",
     "output_type": "stream",
     "text": [
      "('name', 'Prathmesh')\n",
      "('class', 'data science')\n",
      "('topic', ['python', 'Ml', 'Dl'])\n"
     ]
    }
   ],
   "source": [
    "for i in d.items():\n",
    "    print(i)"
   ]
  },
  {
   "cell_type": "code",
   "execution_count": null,
   "id": "593745ba-080f-448e-b521-d8df48d1b140",
   "metadata": {},
   "outputs": [],
   "source": []
  }
 ],
 "metadata": {
  "kernelspec": {
   "display_name": "Python 3 (ipykernel)",
   "language": "python",
   "name": "python3"
  },
  "language_info": {
   "codemirror_mode": {
    "name": "ipython",
    "version": 3
   },
   "file_extension": ".py",
   "mimetype": "text/x-python",
   "name": "python",
   "nbconvert_exporter": "python",
   "pygments_lexer": "ipython3",
   "version": "3.11.4"
  }
 },
 "nbformat": 4,
 "nbformat_minor": 5
}
